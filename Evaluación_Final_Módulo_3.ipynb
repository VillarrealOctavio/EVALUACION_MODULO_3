{
  "nbformat": 4,
  "nbformat_minor": 0,
  "metadata": {
    "colab": {
      "provenance": [],
      "include_colab_link": true
    },
    "kernelspec": {
      "name": "python3",
      "display_name": "Python 3"
    },
    "language_info": {
      "name": "python"
    }
  },
  "cells": [
    {
      "cell_type": "markdown",
      "metadata": {
        "id": "view-in-github",
        "colab_type": "text"
      },
      "source": [
        "<a href=\"https://colab.research.google.com/github/VillarrealOctavio/EVALUACION_MODULO_3/blob/main/Evaluaci%C3%B3n_Final_M%C3%B3dulo_3.ipynb\" target=\"_parent\"><img src=\"https://colab.research.google.com/assets/colab-badge.svg\" alt=\"Open In Colab\"/></a>"
      ]
    },
    {
      "cell_type": "markdown",
      "source": [
        "<p align=\"center\">\n",
        "<img src=\"https://github.com/cristiandarioortegayubro/BDS/blob/main/images/Logo%20BDS%20Horizontal%208.png?raw=true\">\n",
        "</p>\n"
      ],
      "metadata": {
        "id": "iheuwam9e4CH"
      }
    },
    {
      "cell_type": "markdown",
      "source": [
        "<p align=\"center\">\n",
        "<img src=\"https://github.com/cristiandarioortegayubro/BDS/blob/main/images/Logo%20Scikit-learn.png?raw=true\">\n",
        "</p>\n"
      ],
      "metadata": {
        "id": "XM-hn7ZLmgQc"
      }
    },
    {
      "cell_type": "markdown",
      "source": [
        " # **<font color=\"DeepPink\">Evaluación Pipeline del Aprendizaje Automático</font>**"
      ],
      "metadata": {
        "id": "_o8tuKydjnRZ"
      }
    },
    {
      "cell_type": "markdown",
      "source": [
        "Apellido y Nombre: Villarreal Octavio"
      ],
      "metadata": {
        "id": "6jJ2oUw8xyYY"
      }
    },
    {
      "cell_type": "code",
      "source": [
        "#Generamos una variable, en la cual guardamos la ruta de acceso a los datos:\n",
        "url=\"https://raw.githubusercontent.com/cristiandarioortegayubro/BDS/main/datasets/house_prices.csv\""
      ],
      "metadata": {
        "id": "KEGoCiUEkNaA"
      },
      "execution_count": null,
      "outputs": []
    },
    {
      "cell_type": "markdown",
      "source": [
        " ## **<font color=\"DeepPink\">Generar el DataFrame</font>**"
      ],
      "metadata": {
        "id": "eTyZwY2TPZnv"
      }
    },
    {
      "cell_type": "code",
      "source": [
        "#Importamos las bibliotecas que utilizaremos posteriormente:\n",
        "import numpy as np\n",
        "import pandas as pd"
      ],
      "metadata": {
        "id": "J6KYSYFASlBR"
      },
      "execution_count": null,
      "outputs": []
    },
    {
      "cell_type": "code",
      "source": [
        "# mi código aquí:\n",
        "data = pd.read_csv(url, na_values=\"?\")"
      ],
      "metadata": {
        "id": "mJBuz5ZDS0Hu"
      },
      "execution_count": null,
      "outputs": []
    },
    {
      "cell_type": "code",
      "source": [
        "#Verificamos que la estructura de datos es la de un Dataframe:\n",
        "type(data)"
      ],
      "metadata": {
        "colab": {
          "base_uri": "https://localhost:8080/"
        },
        "id": "HamOT4csTQr2",
        "outputId": "ba575ae4-214a-42a8-e138-925a07e8cbfe"
      },
      "execution_count": null,
      "outputs": [
        {
          "output_type": "execute_result",
          "data": {
            "text/plain": [
              "pandas.core.frame.DataFrame"
            ]
          },
          "metadata": {},
          "execution_count": 6
        }
      ]
    },
    {
      "cell_type": "markdown",
      "source": [
        " ## **<font color=\"DeepPink\">Dividir la variable objetivo del conjunto de datos</font>**"
      ],
      "metadata": {
        "id": "S3GqS1p0Pls_"
      }
    },
    {
      "cell_type": "code",
      "source": [
        "#Generamos un objeto con la variable objetivo:\n",
        "target_object = 'SalePrice'"
      ],
      "metadata": {
        "id": "A7cXQWefTnlC"
      },
      "execution_count": null,
      "outputs": []
    },
    {
      "cell_type": "code",
      "source": [
        "# mi codigo aquí\n",
        "y = data[target_object]\n",
        "X = data.drop(columns=target_object)"
      ],
      "metadata": {
        "id": "1oXwjkwchvqq"
      },
      "execution_count": null,
      "outputs": []
    },
    {
      "cell_type": "markdown",
      "source": [
        " ## **<font color=\"DeepPink\">Ajustar la variable objetivo para modelo de clasificación</font>**"
      ],
      "metadata": {
        "id": "qRVyrQt6P1cO"
      }
    },
    {
      "cell_type": "code",
      "source": [
        "#En mi caso particular, busco un precio que permita dividir el conjunto que datos, aproximadamente, por la mitad:\n",
        "(y > 160000).value_counts()"
      ],
      "metadata": {
        "colab": {
          "base_uri": "https://localhost:8080/"
        },
        "id": "LaW2hCsIUdXl",
        "outputId": "14c75c4a-d232-491c-f8a1-3442af4c08a3"
      },
      "execution_count": null,
      "outputs": [
        {
          "output_type": "execute_result",
          "data": {
            "text/plain": [
              "True     745\n",
              "False    715\n",
              "Name: SalePrice, dtype: int64"
            ]
          },
          "metadata": {},
          "execution_count": 22
        }
      ]
    },
    {
      "cell_type": "code",
      "source": [
        "# mi codigo aquí\n",
        "y = (y > 160000).astype(int)"
      ],
      "metadata": {
        "id": "ti0cbUQeh90p"
      },
      "execution_count": null,
      "outputs": []
    },
    {
      "cell_type": "markdown",
      "source": [
        " ## **<font color=\"DeepPink\">Dividir en datos numéricos y datos categóricos</font>**"
      ],
      "metadata": {
        "id": "8O_GWn2-lFgC"
      }
    },
    {
      "cell_type": "code",
      "source": [
        "#Importamos de scikit_learn una herramienta para poder dividir los datos correctamente:\n",
        "from sklearn.compose import make_column_selector as selector"
      ],
      "metadata": {
        "id": "bNIwbWPnVCuR"
      },
      "execution_count": null,
      "outputs": []
    },
    {
      "cell_type": "code",
      "source": [
        "# mi codigo aquí\n",
        "numerical_columns_selector = selector(dtype_exclude=object)\n",
        "categorical_columns_selector = selector(dtype_include=object)"
      ],
      "metadata": {
        "id": "lzszM1a-Cbks"
      },
      "execution_count": null,
      "outputs": []
    },
    {
      "cell_type": "code",
      "source": [
        "#Generamos dos listas con el nombre de las correspondientes columnas:\n",
        "numerical_list = numerical_columns_selector(X)\n",
        "categorical_list = categorical_columns_selector(X)"
      ],
      "metadata": {
        "id": "JBqEvuPQVyge"
      },
      "execution_count": null,
      "outputs": []
    },
    {
      "cell_type": "markdown",
      "source": [
        " ## **<font color=\"DeepPink\">Preprocesar los datos</font>**"
      ],
      "metadata": {
        "id": "jSSZpa4ji-Fk"
      }
    },
    {
      "cell_type": "code",
      "source": [
        "#Importamos las bibliotecas necesarias para trabajar con el preprocesamiento de datos:\n",
        "from sklearn.pipeline import Pipeline\n",
        "from sklearn.impute import SimpleImputer\n",
        "from sklearn.preprocessing import StandardScaler, OneHotEncoder"
      ],
      "metadata": {
        "id": "Aja9-HwbXYhJ"
      },
      "execution_count": null,
      "outputs": []
    },
    {
      "cell_type": "code",
      "source": [
        "# mi codigo aquí:\n",
        "numerical_transformer = Pipeline(steps=[\n",
        "    ('imputer', SimpleImputer(strategy = 'median')),\n",
        "    ('scaler', StandardScaler())])\n",
        "categorical_transformer = OneHotEncoder(handle_unknown='ignore')"
      ],
      "metadata": {
        "id": "YgIP5JYaYFGE"
      },
      "execution_count": null,
      "outputs": []
    },
    {
      "cell_type": "code",
      "source": [
        "#El siguiente paso es aplicar transformaciones a los datos mediante ColumnTransformer. Para eso, importamos la biblioteca:\n",
        "from sklearn.compose import ColumnTransformer"
      ],
      "metadata": {
        "id": "sr36pk_1YRk1"
      },
      "execution_count": null,
      "outputs": []
    },
    {
      "cell_type": "code",
      "source": [
        "preprocessor = ColumnTransformer(transformers=[\n",
        "    ('num', numerical_transformer, numerical_list),\n",
        "    ('cat', categorical_transformer, categorical_list)])"
      ],
      "metadata": {
        "id": "zisWK7GZYujA"
      },
      "execution_count": null,
      "outputs": []
    },
    {
      "cell_type": "markdown",
      "source": [
        " ## **<font color=\"DeepPink\">Definición del modelo</font>**"
      ],
      "metadata": {
        "id": "Y-0vC182kalQ"
      }
    },
    {
      "cell_type": "code",
      "source": [
        "from sklearn.ensemble import RandomForestClassifier"
      ],
      "metadata": {
        "id": "uJOUc6k8kecS"
      },
      "execution_count": null,
      "outputs": []
    },
    {
      "cell_type": "markdown",
      "source": [
        " ## **<font color=\"DeepPink\">Generar el Pipeline</font>**"
      ],
      "metadata": {
        "id": "HHp6-LtgQ28x"
      }
    },
    {
      "cell_type": "code",
      "source": [
        "# mi codigo aqui\n",
        "model = Pipeline(steps=[\n",
        "    ('preprocessor', preprocessor),\n",
        "    ('classifier', RandomForestClassifier())])"
      ],
      "metadata": {
        "id": "UDCkteSqkgBe"
      },
      "execution_count": null,
      "outputs": []
    },
    {
      "cell_type": "markdown",
      "source": [
        "## **<font color=\"DeepPink\">Visualizar el Pipeline</font>**"
      ],
      "metadata": {
        "id": "WJyUvFqXkvuM"
      }
    },
    {
      "cell_type": "code",
      "source": [
        "# mi codigo aqui\n",
        "model"
      ],
      "metadata": {
        "id": "BYgK8OFvkj-i",
        "colab": {
          "base_uri": "https://localhost:8080/",
          "height": 227
        },
        "outputId": "f05bad7f-5069-4ba5-994b-e6e10249016b"
      },
      "execution_count": null,
      "outputs": [
        {
          "output_type": "execute_result",
          "data": {
            "text/plain": [
              "Pipeline(steps=[('preprocessor',\n",
              "                 ColumnTransformer(transformers=[('num',\n",
              "                                                  Pipeline(steps=[('imputer',\n",
              "                                                                   SimpleImputer(strategy='median')),\n",
              "                                                                  ('scaler',\n",
              "                                                                   StandardScaler())]),\n",
              "                                                  ['Id', 'MSSubClass',\n",
              "                                                   'LotFrontage', 'LotArea',\n",
              "                                                   'OverallQual', 'OverallCond',\n",
              "                                                   'YearBuilt', 'YearRemodAdd',\n",
              "                                                   'MasVnrArea', 'BsmtFinSF1',\n",
              "                                                   'BsmtFinSF2', 'BsmtUnfSF',\n",
              "                                                   'TotalBsmtSF', '1stFlrSF',\n",
              "                                                   '2ndFlrSF', 'Lo...\n",
              "                                                   'LotConfig', 'LandSlope',\n",
              "                                                   'Neighborhood', 'Condition1',\n",
              "                                                   'Condition2', 'BldgType',\n",
              "                                                   'HouseStyle', 'RoofStyle',\n",
              "                                                   'RoofMatl', 'Exterior1st',\n",
              "                                                   'Exterior2nd', 'MasVnrType',\n",
              "                                                   'ExterQual', 'ExterCond',\n",
              "                                                   'Foundation', 'BsmtQual',\n",
              "                                                   'BsmtCond', 'BsmtExposure',\n",
              "                                                   'BsmtFinType1',\n",
              "                                                   'BsmtFinType2', 'Heating',\n",
              "                                                   'HeatingQC', 'CentralAir',\n",
              "                                                   'Electrical', ...])])),\n",
              "                ('classifier', RandomForestClassifier())])"
            ],
            "text/html": [
              "<style>#sk-container-id-1 {color: black;background-color: white;}#sk-container-id-1 pre{padding: 0;}#sk-container-id-1 div.sk-toggleable {background-color: white;}#sk-container-id-1 label.sk-toggleable__label {cursor: pointer;display: block;width: 100%;margin-bottom: 0;padding: 0.3em;box-sizing: border-box;text-align: center;}#sk-container-id-1 label.sk-toggleable__label-arrow:before {content: \"▸\";float: left;margin-right: 0.25em;color: #696969;}#sk-container-id-1 label.sk-toggleable__label-arrow:hover:before {color: black;}#sk-container-id-1 div.sk-estimator:hover label.sk-toggleable__label-arrow:before {color: black;}#sk-container-id-1 div.sk-toggleable__content {max-height: 0;max-width: 0;overflow: hidden;text-align: left;background-color: #f0f8ff;}#sk-container-id-1 div.sk-toggleable__content pre {margin: 0.2em;color: black;border-radius: 0.25em;background-color: #f0f8ff;}#sk-container-id-1 input.sk-toggleable__control:checked~div.sk-toggleable__content {max-height: 200px;max-width: 100%;overflow: auto;}#sk-container-id-1 input.sk-toggleable__control:checked~label.sk-toggleable__label-arrow:before {content: \"▾\";}#sk-container-id-1 div.sk-estimator input.sk-toggleable__control:checked~label.sk-toggleable__label {background-color: #d4ebff;}#sk-container-id-1 div.sk-label input.sk-toggleable__control:checked~label.sk-toggleable__label {background-color: #d4ebff;}#sk-container-id-1 input.sk-hidden--visually {border: 0;clip: rect(1px 1px 1px 1px);clip: rect(1px, 1px, 1px, 1px);height: 1px;margin: -1px;overflow: hidden;padding: 0;position: absolute;width: 1px;}#sk-container-id-1 div.sk-estimator {font-family: monospace;background-color: #f0f8ff;border: 1px dotted black;border-radius: 0.25em;box-sizing: border-box;margin-bottom: 0.5em;}#sk-container-id-1 div.sk-estimator:hover {background-color: #d4ebff;}#sk-container-id-1 div.sk-parallel-item::after {content: \"\";width: 100%;border-bottom: 1px solid gray;flex-grow: 1;}#sk-container-id-1 div.sk-label:hover label.sk-toggleable__label {background-color: #d4ebff;}#sk-container-id-1 div.sk-serial::before {content: \"\";position: absolute;border-left: 1px solid gray;box-sizing: border-box;top: 0;bottom: 0;left: 50%;z-index: 0;}#sk-container-id-1 div.sk-serial {display: flex;flex-direction: column;align-items: center;background-color: white;padding-right: 0.2em;padding-left: 0.2em;position: relative;}#sk-container-id-1 div.sk-item {position: relative;z-index: 1;}#sk-container-id-1 div.sk-parallel {display: flex;align-items: stretch;justify-content: center;background-color: white;position: relative;}#sk-container-id-1 div.sk-item::before, #sk-container-id-1 div.sk-parallel-item::before {content: \"\";position: absolute;border-left: 1px solid gray;box-sizing: border-box;top: 0;bottom: 0;left: 50%;z-index: -1;}#sk-container-id-1 div.sk-parallel-item {display: flex;flex-direction: column;z-index: 1;position: relative;background-color: white;}#sk-container-id-1 div.sk-parallel-item:first-child::after {align-self: flex-end;width: 50%;}#sk-container-id-1 div.sk-parallel-item:last-child::after {align-self: flex-start;width: 50%;}#sk-container-id-1 div.sk-parallel-item:only-child::after {width: 0;}#sk-container-id-1 div.sk-dashed-wrapped {border: 1px dashed gray;margin: 0 0.4em 0.5em 0.4em;box-sizing: border-box;padding-bottom: 0.4em;background-color: white;}#sk-container-id-1 div.sk-label label {font-family: monospace;font-weight: bold;display: inline-block;line-height: 1.2em;}#sk-container-id-1 div.sk-label-container {text-align: center;}#sk-container-id-1 div.sk-container {/* jupyter's `normalize.less` sets `[hidden] { display: none; }` but bootstrap.min.css set `[hidden] { display: none !important; }` so we also need the `!important` here to be able to override the default hidden behavior on the sphinx rendered scikit-learn.org. See: https://github.com/scikit-learn/scikit-learn/issues/21755 */display: inline-block !important;position: relative;}#sk-container-id-1 div.sk-text-repr-fallback {display: none;}</style><div id=\"sk-container-id-1\" class=\"sk-top-container\"><div class=\"sk-text-repr-fallback\"><pre>Pipeline(steps=[(&#x27;preprocessor&#x27;,\n",
              "                 ColumnTransformer(transformers=[(&#x27;num&#x27;,\n",
              "                                                  Pipeline(steps=[(&#x27;imputer&#x27;,\n",
              "                                                                   SimpleImputer(strategy=&#x27;median&#x27;)),\n",
              "                                                                  (&#x27;scaler&#x27;,\n",
              "                                                                   StandardScaler())]),\n",
              "                                                  [&#x27;Id&#x27;, &#x27;MSSubClass&#x27;,\n",
              "                                                   &#x27;LotFrontage&#x27;, &#x27;LotArea&#x27;,\n",
              "                                                   &#x27;OverallQual&#x27;, &#x27;OverallCond&#x27;,\n",
              "                                                   &#x27;YearBuilt&#x27;, &#x27;YearRemodAdd&#x27;,\n",
              "                                                   &#x27;MasVnrArea&#x27;, &#x27;BsmtFinSF1&#x27;,\n",
              "                                                   &#x27;BsmtFinSF2&#x27;, &#x27;BsmtUnfSF&#x27;,\n",
              "                                                   &#x27;TotalBsmtSF&#x27;, &#x27;1stFlrSF&#x27;,\n",
              "                                                   &#x27;2ndFlrSF&#x27;, &#x27;Lo...\n",
              "                                                   &#x27;LotConfig&#x27;, &#x27;LandSlope&#x27;,\n",
              "                                                   &#x27;Neighborhood&#x27;, &#x27;Condition1&#x27;,\n",
              "                                                   &#x27;Condition2&#x27;, &#x27;BldgType&#x27;,\n",
              "                                                   &#x27;HouseStyle&#x27;, &#x27;RoofStyle&#x27;,\n",
              "                                                   &#x27;RoofMatl&#x27;, &#x27;Exterior1st&#x27;,\n",
              "                                                   &#x27;Exterior2nd&#x27;, &#x27;MasVnrType&#x27;,\n",
              "                                                   &#x27;ExterQual&#x27;, &#x27;ExterCond&#x27;,\n",
              "                                                   &#x27;Foundation&#x27;, &#x27;BsmtQual&#x27;,\n",
              "                                                   &#x27;BsmtCond&#x27;, &#x27;BsmtExposure&#x27;,\n",
              "                                                   &#x27;BsmtFinType1&#x27;,\n",
              "                                                   &#x27;BsmtFinType2&#x27;, &#x27;Heating&#x27;,\n",
              "                                                   &#x27;HeatingQC&#x27;, &#x27;CentralAir&#x27;,\n",
              "                                                   &#x27;Electrical&#x27;, ...])])),\n",
              "                (&#x27;classifier&#x27;, RandomForestClassifier())])</pre><b>In a Jupyter environment, please rerun this cell to show the HTML representation or trust the notebook. <br />On GitHub, the HTML representation is unable to render, please try loading this page with nbviewer.org.</b></div><div class=\"sk-container\" hidden><div class=\"sk-item sk-dashed-wrapped\"><div class=\"sk-label-container\"><div class=\"sk-label sk-toggleable\"><input class=\"sk-toggleable__control sk-hidden--visually\" id=\"sk-estimator-id-1\" type=\"checkbox\" ><label for=\"sk-estimator-id-1\" class=\"sk-toggleable__label sk-toggleable__label-arrow\">Pipeline</label><div class=\"sk-toggleable__content\"><pre>Pipeline(steps=[(&#x27;preprocessor&#x27;,\n",
              "                 ColumnTransformer(transformers=[(&#x27;num&#x27;,\n",
              "                                                  Pipeline(steps=[(&#x27;imputer&#x27;,\n",
              "                                                                   SimpleImputer(strategy=&#x27;median&#x27;)),\n",
              "                                                                  (&#x27;scaler&#x27;,\n",
              "                                                                   StandardScaler())]),\n",
              "                                                  [&#x27;Id&#x27;, &#x27;MSSubClass&#x27;,\n",
              "                                                   &#x27;LotFrontage&#x27;, &#x27;LotArea&#x27;,\n",
              "                                                   &#x27;OverallQual&#x27;, &#x27;OverallCond&#x27;,\n",
              "                                                   &#x27;YearBuilt&#x27;, &#x27;YearRemodAdd&#x27;,\n",
              "                                                   &#x27;MasVnrArea&#x27;, &#x27;BsmtFinSF1&#x27;,\n",
              "                                                   &#x27;BsmtFinSF2&#x27;, &#x27;BsmtUnfSF&#x27;,\n",
              "                                                   &#x27;TotalBsmtSF&#x27;, &#x27;1stFlrSF&#x27;,\n",
              "                                                   &#x27;2ndFlrSF&#x27;, &#x27;Lo...\n",
              "                                                   &#x27;LotConfig&#x27;, &#x27;LandSlope&#x27;,\n",
              "                                                   &#x27;Neighborhood&#x27;, &#x27;Condition1&#x27;,\n",
              "                                                   &#x27;Condition2&#x27;, &#x27;BldgType&#x27;,\n",
              "                                                   &#x27;HouseStyle&#x27;, &#x27;RoofStyle&#x27;,\n",
              "                                                   &#x27;RoofMatl&#x27;, &#x27;Exterior1st&#x27;,\n",
              "                                                   &#x27;Exterior2nd&#x27;, &#x27;MasVnrType&#x27;,\n",
              "                                                   &#x27;ExterQual&#x27;, &#x27;ExterCond&#x27;,\n",
              "                                                   &#x27;Foundation&#x27;, &#x27;BsmtQual&#x27;,\n",
              "                                                   &#x27;BsmtCond&#x27;, &#x27;BsmtExposure&#x27;,\n",
              "                                                   &#x27;BsmtFinType1&#x27;,\n",
              "                                                   &#x27;BsmtFinType2&#x27;, &#x27;Heating&#x27;,\n",
              "                                                   &#x27;HeatingQC&#x27;, &#x27;CentralAir&#x27;,\n",
              "                                                   &#x27;Electrical&#x27;, ...])])),\n",
              "                (&#x27;classifier&#x27;, RandomForestClassifier())])</pre></div></div></div><div class=\"sk-serial\"><div class=\"sk-item sk-dashed-wrapped\"><div class=\"sk-label-container\"><div class=\"sk-label sk-toggleable\"><input class=\"sk-toggleable__control sk-hidden--visually\" id=\"sk-estimator-id-2\" type=\"checkbox\" ><label for=\"sk-estimator-id-2\" class=\"sk-toggleable__label sk-toggleable__label-arrow\">preprocessor: ColumnTransformer</label><div class=\"sk-toggleable__content\"><pre>ColumnTransformer(transformers=[(&#x27;num&#x27;,\n",
              "                                 Pipeline(steps=[(&#x27;imputer&#x27;,\n",
              "                                                  SimpleImputer(strategy=&#x27;median&#x27;)),\n",
              "                                                 (&#x27;scaler&#x27;, StandardScaler())]),\n",
              "                                 [&#x27;Id&#x27;, &#x27;MSSubClass&#x27;, &#x27;LotFrontage&#x27;, &#x27;LotArea&#x27;,\n",
              "                                  &#x27;OverallQual&#x27;, &#x27;OverallCond&#x27;, &#x27;YearBuilt&#x27;,\n",
              "                                  &#x27;YearRemodAdd&#x27;, &#x27;MasVnrArea&#x27;, &#x27;BsmtFinSF1&#x27;,\n",
              "                                  &#x27;BsmtFinSF2&#x27;, &#x27;BsmtUnfSF&#x27;, &#x27;TotalBsmtSF&#x27;,\n",
              "                                  &#x27;1stFlrSF&#x27;, &#x27;2ndFlrSF&#x27;, &#x27;LowQualFinSF&#x27;,\n",
              "                                  &#x27;GrLivArea&#x27;, &#x27;BsmtFul...\n",
              "                                 [&#x27;MSZoning&#x27;, &#x27;Street&#x27;, &#x27;Alley&#x27;, &#x27;LotShape&#x27;,\n",
              "                                  &#x27;LandContour&#x27;, &#x27;Utilities&#x27;, &#x27;LotConfig&#x27;,\n",
              "                                  &#x27;LandSlope&#x27;, &#x27;Neighborhood&#x27;, &#x27;Condition1&#x27;,\n",
              "                                  &#x27;Condition2&#x27;, &#x27;BldgType&#x27;, &#x27;HouseStyle&#x27;,\n",
              "                                  &#x27;RoofStyle&#x27;, &#x27;RoofMatl&#x27;, &#x27;Exterior1st&#x27;,\n",
              "                                  &#x27;Exterior2nd&#x27;, &#x27;MasVnrType&#x27;, &#x27;ExterQual&#x27;,\n",
              "                                  &#x27;ExterCond&#x27;, &#x27;Foundation&#x27;, &#x27;BsmtQual&#x27;,\n",
              "                                  &#x27;BsmtCond&#x27;, &#x27;BsmtExposure&#x27;, &#x27;BsmtFinType1&#x27;,\n",
              "                                  &#x27;BsmtFinType2&#x27;, &#x27;Heating&#x27;, &#x27;HeatingQC&#x27;,\n",
              "                                  &#x27;CentralAir&#x27;, &#x27;Electrical&#x27;, ...])])</pre></div></div></div><div class=\"sk-parallel\"><div class=\"sk-parallel-item\"><div class=\"sk-item\"><div class=\"sk-label-container\"><div class=\"sk-label sk-toggleable\"><input class=\"sk-toggleable__control sk-hidden--visually\" id=\"sk-estimator-id-3\" type=\"checkbox\" ><label for=\"sk-estimator-id-3\" class=\"sk-toggleable__label sk-toggleable__label-arrow\">num</label><div class=\"sk-toggleable__content\"><pre>[&#x27;Id&#x27;, &#x27;MSSubClass&#x27;, &#x27;LotFrontage&#x27;, &#x27;LotArea&#x27;, &#x27;OverallQual&#x27;, &#x27;OverallCond&#x27;, &#x27;YearBuilt&#x27;, &#x27;YearRemodAdd&#x27;, &#x27;MasVnrArea&#x27;, &#x27;BsmtFinSF1&#x27;, &#x27;BsmtFinSF2&#x27;, &#x27;BsmtUnfSF&#x27;, &#x27;TotalBsmtSF&#x27;, &#x27;1stFlrSF&#x27;, &#x27;2ndFlrSF&#x27;, &#x27;LowQualFinSF&#x27;, &#x27;GrLivArea&#x27;, &#x27;BsmtFullBath&#x27;, &#x27;BsmtHalfBath&#x27;, &#x27;FullBath&#x27;, &#x27;HalfBath&#x27;, &#x27;BedroomAbvGr&#x27;, &#x27;KitchenAbvGr&#x27;, &#x27;TotRmsAbvGrd&#x27;, &#x27;Fireplaces&#x27;, &#x27;GarageYrBlt&#x27;, &#x27;GarageCars&#x27;, &#x27;GarageArea&#x27;, &#x27;WoodDeckSF&#x27;, &#x27;OpenPorchSF&#x27;, &#x27;EnclosedPorch&#x27;, &#x27;3SsnPorch&#x27;, &#x27;ScreenPorch&#x27;, &#x27;PoolArea&#x27;, &#x27;MiscVal&#x27;, &#x27;MoSold&#x27;, &#x27;YrSold&#x27;]</pre></div></div></div><div class=\"sk-serial\"><div class=\"sk-item\"><div class=\"sk-serial\"><div class=\"sk-item\"><div class=\"sk-estimator sk-toggleable\"><input class=\"sk-toggleable__control sk-hidden--visually\" id=\"sk-estimator-id-4\" type=\"checkbox\" ><label for=\"sk-estimator-id-4\" class=\"sk-toggleable__label sk-toggleable__label-arrow\">SimpleImputer</label><div class=\"sk-toggleable__content\"><pre>SimpleImputer(strategy=&#x27;median&#x27;)</pre></div></div></div><div class=\"sk-item\"><div class=\"sk-estimator sk-toggleable\"><input class=\"sk-toggleable__control sk-hidden--visually\" id=\"sk-estimator-id-5\" type=\"checkbox\" ><label for=\"sk-estimator-id-5\" class=\"sk-toggleable__label sk-toggleable__label-arrow\">StandardScaler</label><div class=\"sk-toggleable__content\"><pre>StandardScaler()</pre></div></div></div></div></div></div></div></div><div class=\"sk-parallel-item\"><div class=\"sk-item\"><div class=\"sk-label-container\"><div class=\"sk-label sk-toggleable\"><input class=\"sk-toggleable__control sk-hidden--visually\" id=\"sk-estimator-id-6\" type=\"checkbox\" ><label for=\"sk-estimator-id-6\" class=\"sk-toggleable__label sk-toggleable__label-arrow\">cat</label><div class=\"sk-toggleable__content\"><pre>[&#x27;MSZoning&#x27;, &#x27;Street&#x27;, &#x27;Alley&#x27;, &#x27;LotShape&#x27;, &#x27;LandContour&#x27;, &#x27;Utilities&#x27;, &#x27;LotConfig&#x27;, &#x27;LandSlope&#x27;, &#x27;Neighborhood&#x27;, &#x27;Condition1&#x27;, &#x27;Condition2&#x27;, &#x27;BldgType&#x27;, &#x27;HouseStyle&#x27;, &#x27;RoofStyle&#x27;, &#x27;RoofMatl&#x27;, &#x27;Exterior1st&#x27;, &#x27;Exterior2nd&#x27;, &#x27;MasVnrType&#x27;, &#x27;ExterQual&#x27;, &#x27;ExterCond&#x27;, &#x27;Foundation&#x27;, &#x27;BsmtQual&#x27;, &#x27;BsmtCond&#x27;, &#x27;BsmtExposure&#x27;, &#x27;BsmtFinType1&#x27;, &#x27;BsmtFinType2&#x27;, &#x27;Heating&#x27;, &#x27;HeatingQC&#x27;, &#x27;CentralAir&#x27;, &#x27;Electrical&#x27;, &#x27;KitchenQual&#x27;, &#x27;Functional&#x27;, &#x27;FireplaceQu&#x27;, &#x27;GarageType&#x27;, &#x27;GarageFinish&#x27;, &#x27;GarageQual&#x27;, &#x27;GarageCond&#x27;, &#x27;PavedDrive&#x27;, &#x27;PoolQC&#x27;, &#x27;Fence&#x27;, &#x27;MiscFeature&#x27;, &#x27;SaleType&#x27;, &#x27;SaleCondition&#x27;]</pre></div></div></div><div class=\"sk-serial\"><div class=\"sk-item\"><div class=\"sk-estimator sk-toggleable\"><input class=\"sk-toggleable__control sk-hidden--visually\" id=\"sk-estimator-id-7\" type=\"checkbox\" ><label for=\"sk-estimator-id-7\" class=\"sk-toggleable__label sk-toggleable__label-arrow\">OneHotEncoder</label><div class=\"sk-toggleable__content\"><pre>OneHotEncoder(handle_unknown=&#x27;ignore&#x27;)</pre></div></div></div></div></div></div></div></div><div class=\"sk-item\"><div class=\"sk-estimator sk-toggleable\"><input class=\"sk-toggleable__control sk-hidden--visually\" id=\"sk-estimator-id-8\" type=\"checkbox\" ><label for=\"sk-estimator-id-8\" class=\"sk-toggleable__label sk-toggleable__label-arrow\">RandomForestClassifier</label><div class=\"sk-toggleable__content\"><pre>RandomForestClassifier()</pre></div></div></div></div></div></div></div>"
            ]
          },
          "metadata": {},
          "execution_count": 38
        }
      ]
    },
    {
      "cell_type": "markdown",
      "source": [
        "## **<font color=\"DeepPink\">Dividir el conjunto de datos</font>**"
      ],
      "metadata": {
        "id": "KOhxdCCTLX83"
      }
    },
    {
      "cell_type": "code",
      "source": [
        "#Para dividir el conjuntos de datos, utilizamos una herramienta de scikit_learn:\n",
        "from sklearn.model_selection import train_test_split"
      ],
      "metadata": {
        "id": "Ux-Bp1wMZJc5"
      },
      "execution_count": null,
      "outputs": []
    },
    {
      "cell_type": "code",
      "source": [
        "# mi codigo aqui\n",
        "X_train, X_test, y_train, y_test = train_test_split(X, y, random_state = 42)"
      ],
      "metadata": {
        "id": "GQJQv5EBLZ4-"
      },
      "execution_count": null,
      "outputs": []
    },
    {
      "cell_type": "code",
      "source": [
        "print(f'La cantidad de datos de entrenamiento es: {X_train.shape[0]}. Proporción respecto del total: {(X_train.shape[0] / X.shape[0]) * 100}%')\n",
        "print(f'La cantidad de datos de prueba es: {X_test.shape[0]}. Proporción respecto del total: {(X_test.shape[0] / X.shape[0]) * 100}%')"
      ],
      "metadata": {
        "colab": {
          "base_uri": "https://localhost:8080/"
        },
        "id": "6KH5uT2aZpA_",
        "outputId": "e4cd3084-3880-442a-ce32-6b84fe99d1ad"
      },
      "execution_count": null,
      "outputs": [
        {
          "output_type": "stream",
          "name": "stdout",
          "text": [
            "La cantidad de datos de entrenamiento es: 1095. Proporción respecto del total: 75.0%\n",
            "La cantidad de datos de prueba es: 365. Proporción respecto del total: 25.0%\n"
          ]
        }
      ]
    },
    {
      "cell_type": "markdown",
      "source": [
        " ## **<font color=\"DeepPink\">Ajustar y predecir</font>**"
      ],
      "metadata": {
        "id": "bexR1PWkMCY_"
      }
    },
    {
      "cell_type": "code",
      "source": [
        "# mi codigo aqui (utilizamos los datos de entrenamiento):\n",
        "model.fit(X_train, y_train)"
      ],
      "metadata": {
        "id": "grUmlPxwMa4t",
        "colab": {
          "base_uri": "https://localhost:8080/",
          "height": 227
        },
        "outputId": "f079359e-d201-459e-c8da-62f09db840c6"
      },
      "execution_count": null,
      "outputs": [
        {
          "output_type": "execute_result",
          "data": {
            "text/plain": [
              "Pipeline(steps=[('preprocessor',\n",
              "                 ColumnTransformer(transformers=[('num',\n",
              "                                                  Pipeline(steps=[('imputer',\n",
              "                                                                   SimpleImputer(strategy='median')),\n",
              "                                                                  ('scaler',\n",
              "                                                                   StandardScaler())]),\n",
              "                                                  ['Id', 'MSSubClass',\n",
              "                                                   'LotFrontage', 'LotArea',\n",
              "                                                   'OverallQual', 'OverallCond',\n",
              "                                                   'YearBuilt', 'YearRemodAdd',\n",
              "                                                   'MasVnrArea', 'BsmtFinSF1',\n",
              "                                                   'BsmtFinSF2', 'BsmtUnfSF',\n",
              "                                                   'TotalBsmtSF', '1stFlrSF',\n",
              "                                                   '2ndFlrSF', 'Lo...\n",
              "                                                   'LotConfig', 'LandSlope',\n",
              "                                                   'Neighborhood', 'Condition1',\n",
              "                                                   'Condition2', 'BldgType',\n",
              "                                                   'HouseStyle', 'RoofStyle',\n",
              "                                                   'RoofMatl', 'Exterior1st',\n",
              "                                                   'Exterior2nd', 'MasVnrType',\n",
              "                                                   'ExterQual', 'ExterCond',\n",
              "                                                   'Foundation', 'BsmtQual',\n",
              "                                                   'BsmtCond', 'BsmtExposure',\n",
              "                                                   'BsmtFinType1',\n",
              "                                                   'BsmtFinType2', 'Heating',\n",
              "                                                   'HeatingQC', 'CentralAir',\n",
              "                                                   'Electrical', ...])])),\n",
              "                ('classifier', RandomForestClassifier())])"
            ],
            "text/html": [
              "<style>#sk-container-id-2 {color: black;background-color: white;}#sk-container-id-2 pre{padding: 0;}#sk-container-id-2 div.sk-toggleable {background-color: white;}#sk-container-id-2 label.sk-toggleable__label {cursor: pointer;display: block;width: 100%;margin-bottom: 0;padding: 0.3em;box-sizing: border-box;text-align: center;}#sk-container-id-2 label.sk-toggleable__label-arrow:before {content: \"▸\";float: left;margin-right: 0.25em;color: #696969;}#sk-container-id-2 label.sk-toggleable__label-arrow:hover:before {color: black;}#sk-container-id-2 div.sk-estimator:hover label.sk-toggleable__label-arrow:before {color: black;}#sk-container-id-2 div.sk-toggleable__content {max-height: 0;max-width: 0;overflow: hidden;text-align: left;background-color: #f0f8ff;}#sk-container-id-2 div.sk-toggleable__content pre {margin: 0.2em;color: black;border-radius: 0.25em;background-color: #f0f8ff;}#sk-container-id-2 input.sk-toggleable__control:checked~div.sk-toggleable__content {max-height: 200px;max-width: 100%;overflow: auto;}#sk-container-id-2 input.sk-toggleable__control:checked~label.sk-toggleable__label-arrow:before {content: \"▾\";}#sk-container-id-2 div.sk-estimator input.sk-toggleable__control:checked~label.sk-toggleable__label {background-color: #d4ebff;}#sk-container-id-2 div.sk-label input.sk-toggleable__control:checked~label.sk-toggleable__label {background-color: #d4ebff;}#sk-container-id-2 input.sk-hidden--visually {border: 0;clip: rect(1px 1px 1px 1px);clip: rect(1px, 1px, 1px, 1px);height: 1px;margin: -1px;overflow: hidden;padding: 0;position: absolute;width: 1px;}#sk-container-id-2 div.sk-estimator {font-family: monospace;background-color: #f0f8ff;border: 1px dotted black;border-radius: 0.25em;box-sizing: border-box;margin-bottom: 0.5em;}#sk-container-id-2 div.sk-estimator:hover {background-color: #d4ebff;}#sk-container-id-2 div.sk-parallel-item::after {content: \"\";width: 100%;border-bottom: 1px solid gray;flex-grow: 1;}#sk-container-id-2 div.sk-label:hover label.sk-toggleable__label {background-color: #d4ebff;}#sk-container-id-2 div.sk-serial::before {content: \"\";position: absolute;border-left: 1px solid gray;box-sizing: border-box;top: 0;bottom: 0;left: 50%;z-index: 0;}#sk-container-id-2 div.sk-serial {display: flex;flex-direction: column;align-items: center;background-color: white;padding-right: 0.2em;padding-left: 0.2em;position: relative;}#sk-container-id-2 div.sk-item {position: relative;z-index: 1;}#sk-container-id-2 div.sk-parallel {display: flex;align-items: stretch;justify-content: center;background-color: white;position: relative;}#sk-container-id-2 div.sk-item::before, #sk-container-id-2 div.sk-parallel-item::before {content: \"\";position: absolute;border-left: 1px solid gray;box-sizing: border-box;top: 0;bottom: 0;left: 50%;z-index: -1;}#sk-container-id-2 div.sk-parallel-item {display: flex;flex-direction: column;z-index: 1;position: relative;background-color: white;}#sk-container-id-2 div.sk-parallel-item:first-child::after {align-self: flex-end;width: 50%;}#sk-container-id-2 div.sk-parallel-item:last-child::after {align-self: flex-start;width: 50%;}#sk-container-id-2 div.sk-parallel-item:only-child::after {width: 0;}#sk-container-id-2 div.sk-dashed-wrapped {border: 1px dashed gray;margin: 0 0.4em 0.5em 0.4em;box-sizing: border-box;padding-bottom: 0.4em;background-color: white;}#sk-container-id-2 div.sk-label label {font-family: monospace;font-weight: bold;display: inline-block;line-height: 1.2em;}#sk-container-id-2 div.sk-label-container {text-align: center;}#sk-container-id-2 div.sk-container {/* jupyter's `normalize.less` sets `[hidden] { display: none; }` but bootstrap.min.css set `[hidden] { display: none !important; }` so we also need the `!important` here to be able to override the default hidden behavior on the sphinx rendered scikit-learn.org. See: https://github.com/scikit-learn/scikit-learn/issues/21755 */display: inline-block !important;position: relative;}#sk-container-id-2 div.sk-text-repr-fallback {display: none;}</style><div id=\"sk-container-id-2\" class=\"sk-top-container\"><div class=\"sk-text-repr-fallback\"><pre>Pipeline(steps=[(&#x27;preprocessor&#x27;,\n",
              "                 ColumnTransformer(transformers=[(&#x27;num&#x27;,\n",
              "                                                  Pipeline(steps=[(&#x27;imputer&#x27;,\n",
              "                                                                   SimpleImputer(strategy=&#x27;median&#x27;)),\n",
              "                                                                  (&#x27;scaler&#x27;,\n",
              "                                                                   StandardScaler())]),\n",
              "                                                  [&#x27;Id&#x27;, &#x27;MSSubClass&#x27;,\n",
              "                                                   &#x27;LotFrontage&#x27;, &#x27;LotArea&#x27;,\n",
              "                                                   &#x27;OverallQual&#x27;, &#x27;OverallCond&#x27;,\n",
              "                                                   &#x27;YearBuilt&#x27;, &#x27;YearRemodAdd&#x27;,\n",
              "                                                   &#x27;MasVnrArea&#x27;, &#x27;BsmtFinSF1&#x27;,\n",
              "                                                   &#x27;BsmtFinSF2&#x27;, &#x27;BsmtUnfSF&#x27;,\n",
              "                                                   &#x27;TotalBsmtSF&#x27;, &#x27;1stFlrSF&#x27;,\n",
              "                                                   &#x27;2ndFlrSF&#x27;, &#x27;Lo...\n",
              "                                                   &#x27;LotConfig&#x27;, &#x27;LandSlope&#x27;,\n",
              "                                                   &#x27;Neighborhood&#x27;, &#x27;Condition1&#x27;,\n",
              "                                                   &#x27;Condition2&#x27;, &#x27;BldgType&#x27;,\n",
              "                                                   &#x27;HouseStyle&#x27;, &#x27;RoofStyle&#x27;,\n",
              "                                                   &#x27;RoofMatl&#x27;, &#x27;Exterior1st&#x27;,\n",
              "                                                   &#x27;Exterior2nd&#x27;, &#x27;MasVnrType&#x27;,\n",
              "                                                   &#x27;ExterQual&#x27;, &#x27;ExterCond&#x27;,\n",
              "                                                   &#x27;Foundation&#x27;, &#x27;BsmtQual&#x27;,\n",
              "                                                   &#x27;BsmtCond&#x27;, &#x27;BsmtExposure&#x27;,\n",
              "                                                   &#x27;BsmtFinType1&#x27;,\n",
              "                                                   &#x27;BsmtFinType2&#x27;, &#x27;Heating&#x27;,\n",
              "                                                   &#x27;HeatingQC&#x27;, &#x27;CentralAir&#x27;,\n",
              "                                                   &#x27;Electrical&#x27;, ...])])),\n",
              "                (&#x27;classifier&#x27;, RandomForestClassifier())])</pre><b>In a Jupyter environment, please rerun this cell to show the HTML representation or trust the notebook. <br />On GitHub, the HTML representation is unable to render, please try loading this page with nbviewer.org.</b></div><div class=\"sk-container\" hidden><div class=\"sk-item sk-dashed-wrapped\"><div class=\"sk-label-container\"><div class=\"sk-label sk-toggleable\"><input class=\"sk-toggleable__control sk-hidden--visually\" id=\"sk-estimator-id-9\" type=\"checkbox\" ><label for=\"sk-estimator-id-9\" class=\"sk-toggleable__label sk-toggleable__label-arrow\">Pipeline</label><div class=\"sk-toggleable__content\"><pre>Pipeline(steps=[(&#x27;preprocessor&#x27;,\n",
              "                 ColumnTransformer(transformers=[(&#x27;num&#x27;,\n",
              "                                                  Pipeline(steps=[(&#x27;imputer&#x27;,\n",
              "                                                                   SimpleImputer(strategy=&#x27;median&#x27;)),\n",
              "                                                                  (&#x27;scaler&#x27;,\n",
              "                                                                   StandardScaler())]),\n",
              "                                                  [&#x27;Id&#x27;, &#x27;MSSubClass&#x27;,\n",
              "                                                   &#x27;LotFrontage&#x27;, &#x27;LotArea&#x27;,\n",
              "                                                   &#x27;OverallQual&#x27;, &#x27;OverallCond&#x27;,\n",
              "                                                   &#x27;YearBuilt&#x27;, &#x27;YearRemodAdd&#x27;,\n",
              "                                                   &#x27;MasVnrArea&#x27;, &#x27;BsmtFinSF1&#x27;,\n",
              "                                                   &#x27;BsmtFinSF2&#x27;, &#x27;BsmtUnfSF&#x27;,\n",
              "                                                   &#x27;TotalBsmtSF&#x27;, &#x27;1stFlrSF&#x27;,\n",
              "                                                   &#x27;2ndFlrSF&#x27;, &#x27;Lo...\n",
              "                                                   &#x27;LotConfig&#x27;, &#x27;LandSlope&#x27;,\n",
              "                                                   &#x27;Neighborhood&#x27;, &#x27;Condition1&#x27;,\n",
              "                                                   &#x27;Condition2&#x27;, &#x27;BldgType&#x27;,\n",
              "                                                   &#x27;HouseStyle&#x27;, &#x27;RoofStyle&#x27;,\n",
              "                                                   &#x27;RoofMatl&#x27;, &#x27;Exterior1st&#x27;,\n",
              "                                                   &#x27;Exterior2nd&#x27;, &#x27;MasVnrType&#x27;,\n",
              "                                                   &#x27;ExterQual&#x27;, &#x27;ExterCond&#x27;,\n",
              "                                                   &#x27;Foundation&#x27;, &#x27;BsmtQual&#x27;,\n",
              "                                                   &#x27;BsmtCond&#x27;, &#x27;BsmtExposure&#x27;,\n",
              "                                                   &#x27;BsmtFinType1&#x27;,\n",
              "                                                   &#x27;BsmtFinType2&#x27;, &#x27;Heating&#x27;,\n",
              "                                                   &#x27;HeatingQC&#x27;, &#x27;CentralAir&#x27;,\n",
              "                                                   &#x27;Electrical&#x27;, ...])])),\n",
              "                (&#x27;classifier&#x27;, RandomForestClassifier())])</pre></div></div></div><div class=\"sk-serial\"><div class=\"sk-item sk-dashed-wrapped\"><div class=\"sk-label-container\"><div class=\"sk-label sk-toggleable\"><input class=\"sk-toggleable__control sk-hidden--visually\" id=\"sk-estimator-id-10\" type=\"checkbox\" ><label for=\"sk-estimator-id-10\" class=\"sk-toggleable__label sk-toggleable__label-arrow\">preprocessor: ColumnTransformer</label><div class=\"sk-toggleable__content\"><pre>ColumnTransformer(transformers=[(&#x27;num&#x27;,\n",
              "                                 Pipeline(steps=[(&#x27;imputer&#x27;,\n",
              "                                                  SimpleImputer(strategy=&#x27;median&#x27;)),\n",
              "                                                 (&#x27;scaler&#x27;, StandardScaler())]),\n",
              "                                 [&#x27;Id&#x27;, &#x27;MSSubClass&#x27;, &#x27;LotFrontage&#x27;, &#x27;LotArea&#x27;,\n",
              "                                  &#x27;OverallQual&#x27;, &#x27;OverallCond&#x27;, &#x27;YearBuilt&#x27;,\n",
              "                                  &#x27;YearRemodAdd&#x27;, &#x27;MasVnrArea&#x27;, &#x27;BsmtFinSF1&#x27;,\n",
              "                                  &#x27;BsmtFinSF2&#x27;, &#x27;BsmtUnfSF&#x27;, &#x27;TotalBsmtSF&#x27;,\n",
              "                                  &#x27;1stFlrSF&#x27;, &#x27;2ndFlrSF&#x27;, &#x27;LowQualFinSF&#x27;,\n",
              "                                  &#x27;GrLivArea&#x27;, &#x27;BsmtFul...\n",
              "                                 [&#x27;MSZoning&#x27;, &#x27;Street&#x27;, &#x27;Alley&#x27;, &#x27;LotShape&#x27;,\n",
              "                                  &#x27;LandContour&#x27;, &#x27;Utilities&#x27;, &#x27;LotConfig&#x27;,\n",
              "                                  &#x27;LandSlope&#x27;, &#x27;Neighborhood&#x27;, &#x27;Condition1&#x27;,\n",
              "                                  &#x27;Condition2&#x27;, &#x27;BldgType&#x27;, &#x27;HouseStyle&#x27;,\n",
              "                                  &#x27;RoofStyle&#x27;, &#x27;RoofMatl&#x27;, &#x27;Exterior1st&#x27;,\n",
              "                                  &#x27;Exterior2nd&#x27;, &#x27;MasVnrType&#x27;, &#x27;ExterQual&#x27;,\n",
              "                                  &#x27;ExterCond&#x27;, &#x27;Foundation&#x27;, &#x27;BsmtQual&#x27;,\n",
              "                                  &#x27;BsmtCond&#x27;, &#x27;BsmtExposure&#x27;, &#x27;BsmtFinType1&#x27;,\n",
              "                                  &#x27;BsmtFinType2&#x27;, &#x27;Heating&#x27;, &#x27;HeatingQC&#x27;,\n",
              "                                  &#x27;CentralAir&#x27;, &#x27;Electrical&#x27;, ...])])</pre></div></div></div><div class=\"sk-parallel\"><div class=\"sk-parallel-item\"><div class=\"sk-item\"><div class=\"sk-label-container\"><div class=\"sk-label sk-toggleable\"><input class=\"sk-toggleable__control sk-hidden--visually\" id=\"sk-estimator-id-11\" type=\"checkbox\" ><label for=\"sk-estimator-id-11\" class=\"sk-toggleable__label sk-toggleable__label-arrow\">num</label><div class=\"sk-toggleable__content\"><pre>[&#x27;Id&#x27;, &#x27;MSSubClass&#x27;, &#x27;LotFrontage&#x27;, &#x27;LotArea&#x27;, &#x27;OverallQual&#x27;, &#x27;OverallCond&#x27;, &#x27;YearBuilt&#x27;, &#x27;YearRemodAdd&#x27;, &#x27;MasVnrArea&#x27;, &#x27;BsmtFinSF1&#x27;, &#x27;BsmtFinSF2&#x27;, &#x27;BsmtUnfSF&#x27;, &#x27;TotalBsmtSF&#x27;, &#x27;1stFlrSF&#x27;, &#x27;2ndFlrSF&#x27;, &#x27;LowQualFinSF&#x27;, &#x27;GrLivArea&#x27;, &#x27;BsmtFullBath&#x27;, &#x27;BsmtHalfBath&#x27;, &#x27;FullBath&#x27;, &#x27;HalfBath&#x27;, &#x27;BedroomAbvGr&#x27;, &#x27;KitchenAbvGr&#x27;, &#x27;TotRmsAbvGrd&#x27;, &#x27;Fireplaces&#x27;, &#x27;GarageYrBlt&#x27;, &#x27;GarageCars&#x27;, &#x27;GarageArea&#x27;, &#x27;WoodDeckSF&#x27;, &#x27;OpenPorchSF&#x27;, &#x27;EnclosedPorch&#x27;, &#x27;3SsnPorch&#x27;, &#x27;ScreenPorch&#x27;, &#x27;PoolArea&#x27;, &#x27;MiscVal&#x27;, &#x27;MoSold&#x27;, &#x27;YrSold&#x27;]</pre></div></div></div><div class=\"sk-serial\"><div class=\"sk-item\"><div class=\"sk-serial\"><div class=\"sk-item\"><div class=\"sk-estimator sk-toggleable\"><input class=\"sk-toggleable__control sk-hidden--visually\" id=\"sk-estimator-id-12\" type=\"checkbox\" ><label for=\"sk-estimator-id-12\" class=\"sk-toggleable__label sk-toggleable__label-arrow\">SimpleImputer</label><div class=\"sk-toggleable__content\"><pre>SimpleImputer(strategy=&#x27;median&#x27;)</pre></div></div></div><div class=\"sk-item\"><div class=\"sk-estimator sk-toggleable\"><input class=\"sk-toggleable__control sk-hidden--visually\" id=\"sk-estimator-id-13\" type=\"checkbox\" ><label for=\"sk-estimator-id-13\" class=\"sk-toggleable__label sk-toggleable__label-arrow\">StandardScaler</label><div class=\"sk-toggleable__content\"><pre>StandardScaler()</pre></div></div></div></div></div></div></div></div><div class=\"sk-parallel-item\"><div class=\"sk-item\"><div class=\"sk-label-container\"><div class=\"sk-label sk-toggleable\"><input class=\"sk-toggleable__control sk-hidden--visually\" id=\"sk-estimator-id-14\" type=\"checkbox\" ><label for=\"sk-estimator-id-14\" class=\"sk-toggleable__label sk-toggleable__label-arrow\">cat</label><div class=\"sk-toggleable__content\"><pre>[&#x27;MSZoning&#x27;, &#x27;Street&#x27;, &#x27;Alley&#x27;, &#x27;LotShape&#x27;, &#x27;LandContour&#x27;, &#x27;Utilities&#x27;, &#x27;LotConfig&#x27;, &#x27;LandSlope&#x27;, &#x27;Neighborhood&#x27;, &#x27;Condition1&#x27;, &#x27;Condition2&#x27;, &#x27;BldgType&#x27;, &#x27;HouseStyle&#x27;, &#x27;RoofStyle&#x27;, &#x27;RoofMatl&#x27;, &#x27;Exterior1st&#x27;, &#x27;Exterior2nd&#x27;, &#x27;MasVnrType&#x27;, &#x27;ExterQual&#x27;, &#x27;ExterCond&#x27;, &#x27;Foundation&#x27;, &#x27;BsmtQual&#x27;, &#x27;BsmtCond&#x27;, &#x27;BsmtExposure&#x27;, &#x27;BsmtFinType1&#x27;, &#x27;BsmtFinType2&#x27;, &#x27;Heating&#x27;, &#x27;HeatingQC&#x27;, &#x27;CentralAir&#x27;, &#x27;Electrical&#x27;, &#x27;KitchenQual&#x27;, &#x27;Functional&#x27;, &#x27;FireplaceQu&#x27;, &#x27;GarageType&#x27;, &#x27;GarageFinish&#x27;, &#x27;GarageQual&#x27;, &#x27;GarageCond&#x27;, &#x27;PavedDrive&#x27;, &#x27;PoolQC&#x27;, &#x27;Fence&#x27;, &#x27;MiscFeature&#x27;, &#x27;SaleType&#x27;, &#x27;SaleCondition&#x27;]</pre></div></div></div><div class=\"sk-serial\"><div class=\"sk-item\"><div class=\"sk-estimator sk-toggleable\"><input class=\"sk-toggleable__control sk-hidden--visually\" id=\"sk-estimator-id-15\" type=\"checkbox\" ><label for=\"sk-estimator-id-15\" class=\"sk-toggleable__label sk-toggleable__label-arrow\">OneHotEncoder</label><div class=\"sk-toggleable__content\"><pre>OneHotEncoder(handle_unknown=&#x27;ignore&#x27;)</pre></div></div></div></div></div></div></div></div><div class=\"sk-item\"><div class=\"sk-estimator sk-toggleable\"><input class=\"sk-toggleable__control sk-hidden--visually\" id=\"sk-estimator-id-16\" type=\"checkbox\" ><label for=\"sk-estimator-id-16\" class=\"sk-toggleable__label sk-toggleable__label-arrow\">RandomForestClassifier</label><div class=\"sk-toggleable__content\"><pre>RandomForestClassifier()</pre></div></div></div></div></div></div></div>"
            ]
          },
          "metadata": {},
          "execution_count": 47
        }
      ]
    },
    {
      "cell_type": "code",
      "source": [
        "#Generamos la predicción del modelo con los datos de prueba:\n",
        "prediction = model.predict(X_test)\n",
        "prediction[:50]"
      ],
      "metadata": {
        "colab": {
          "base_uri": "https://localhost:8080/"
        },
        "id": "GBn-PMbjapq_",
        "outputId": "c04921ee-39a4-4881-b906-25ab58c6230c"
      },
      "execution_count": null,
      "outputs": [
        {
          "output_type": "execute_result",
          "data": {
            "text/plain": [
              "array([0, 1, 0, 0, 1, 0, 1, 0, 0, 0, 0, 0, 0, 1, 1, 0, 1, 0, 0, 1, 1, 1,\n",
              "       1, 0, 1, 1, 1, 0, 1, 1, 0, 1, 0, 0, 1, 0, 0, 1, 1, 0, 0, 1, 0, 1,\n",
              "       0, 0, 0, 0, 1, 0])"
            ]
          },
          "metadata": {},
          "execution_count": 48
        }
      ]
    },
    {
      "cell_type": "markdown",
      "source": [
        " ## **<font color=\"DeepPink\">Score</font>**"
      ],
      "metadata": {
        "id": "E6JfvaiURgfR"
      }
    },
    {
      "cell_type": "code",
      "source": [
        "# mi codigo aqui\n",
        "accuracy = model.score(X_test, y_test)\n",
        "print(f'El modelo arroja una métrica de {accuracy}')"
      ],
      "metadata": {
        "id": "neX7ANEMMiX9",
        "colab": {
          "base_uri": "https://localhost:8080/"
        },
        "outputId": "1cc5af2f-4fe0-44ca-fbeb-05e10cd0faf1"
      },
      "execution_count": null,
      "outputs": [
        {
          "output_type": "stream",
          "name": "stdout",
          "text": [
            "El modelo arroja una métrica de 0.936986301369863\n"
          ]
        }
      ]
    },
    {
      "cell_type": "markdown",
      "source": [
        "<br>\n",
        "<br>\n",
        "<p align=\"center\"><b>\n",
        "💗\n",
        "<font color=\"DeepPink\">\n",
        "Has llegado al final de la evaluación, felicitaciones por el esfuerzo...\n",
        "</font>\n",
        "</p>\n",
        "<br>\n",
        "<p align=\"center\">\n",
        "<img src=\"https://github.com/cristiandarioortegayubro/BDS/blob/main/images/Logo%20BDS%20Horizontal%208.png?raw=true\">\n",
        "</p>\n",
        "\n",
        "---\n"
      ],
      "metadata": {
        "id": "wtgChAZSaUMQ"
      }
    }
  ]
}